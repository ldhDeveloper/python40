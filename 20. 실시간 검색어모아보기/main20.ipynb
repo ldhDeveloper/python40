{
 "cells": [
  {
   "cell_type": "code",
   "execution_count": 25,
   "outputs": [
    {
     "name": "stderr",
     "output_type": "stream",
     "text": [
      "C:\\Users\\donghoon\\AppData\\Local\\Temp\\ipykernel_10684\\2989886397.py:5: DeprecationWarning: executable_path has been deprecated, please pass in a Service object\n",
      "  driver = webdriver.Chrome(ChromeDriverManager().install())\n"
     ]
    }
   ],
   "source": [
    "from webdriver_manager.chrome import ChromeDriverManager\n",
    "from selenium import webdriver\n",
    "from selenium.webdriver.common.by import By\n",
    "\n",
    "driver = webdriver.Chrome(ChromeDriverManager().install())\n",
    "\n",
    "URL='https://www.google.co.kr'\n",
    "driver.get(url=URL)\n",
    "driver.implicitly_wait(time_to_wait=10)"
   ],
   "metadata": {
    "collapsed": false
   }
  },
  {
   "cell_type": "code",
   "execution_count": 26,
   "outputs": [
    {
     "name": "stdout",
     "output_type": "stream",
     "text": [
      "대전 화재 사망\n",
      "김민희\n",
      "대우조선해양\n",
      "라이베리아\n",
      "윤석열\n",
      "아베 국장에 역풍\n",
      "한국사능력검정시험\n",
      "천원짜리 변호사\n",
      "엑소 시우민 터닝포인트\n",
      "MBC, 정언유착 의혹에\n"
     ]
    }
   ],
   "source": [
    "URL='https://signal.bz/news'\n",
    "driver.get(url=URL)\n",
    "driver.implicitly_wait(time_to_wait=10)\n",
    "\n",
    "naver_results = driver.find_elements(By.CSS_SELECTOR, '#app > div > main > div > section > div > section > section > div:nth-child(2) > div.realtime-rank > div > div > a > span.rank-text')\n",
    "\n",
    "naver_list = []\n",
    "for naver_result in naver_results:\n",
    "    print(naver_result.text)\n",
    "    naver_list.append(naver_result.text)"
   ],
   "metadata": {
    "collapsed": false
   }
  },
  {
   "cell_type": "code",
   "execution_count": 27,
   "outputs": [
    {
     "name": "stdout",
     "output_type": "stream",
     "text": [
      "대전 화재 사망\n",
      "김민희\n",
      "대우조선해양\n",
      "아베 국장에 역풍\n",
      "엑소 시우민 터닝포인트\n",
      "MBC, 정언유착 의혹에\n",
      "접착제 뿌린 30대\n",
      "기자회견 벤투 감독\n",
      "\n",
      "\n"
     ]
    }
   ],
   "source": [
    "URL='https://www.nate.com'\n",
    "driver.get(url=URL)\n",
    "driver.implicitly_wait(time_to_wait=10)\n",
    "\n",
    "driver.find_element(By.CSS_SELECTOR, '#olLiveIssueKeyword > li:nth-child(1) > a > span.txt_rank').click()\n",
    "\n",
    "nate_results = driver.find_elements(By.CSS_SELECTOR, '#search-option > form:nth-child(1) > fieldset > div.issue-kwd > span > a')\n",
    "\n",
    "nate_list = []\n",
    "for nate_result in nate_results:\n",
    "    print(nate_result.text)\n",
    "    naver_list.append(nate_result.text)"
   ],
   "metadata": {
    "collapsed": false
   }
  },
  {
   "cell_type": "code",
   "execution_count": 28,
   "outputs": [
    {
     "name": "stdout",
     "output_type": "stream",
     "text": [
      "대전 현대아울렛\n",
      "천원짜리 변호사\n",
      "축구 국가대표 평가전\n",
      "윤석열\n",
      "아이유\n",
      "삼남매가 용감하게\n",
      "곽도원\n",
      "이재명\n",
      "금수저\n",
      "손흥민\n"
     ]
    }
   ],
   "source": [
    "import time\n",
    "\n",
    "URL='https://zum.com'\n",
    "driver.get(url=URL)\n",
    "driver.implicitly_wait(time_to_wait=10)\n",
    "\n",
    "driver.find_element(By.CSS_SELECTOR, '#app > div > header > div.search_bar > div > fieldset > div > input[type=text]').send_keys('아무거나 검색')\n",
    "time.sleep(0.5)\n",
    "\n",
    "driver.find_element(By.CSS_SELECTOR, '#app > div > header > div.search_bar > div > fieldset > div > button.search').click()\n",
    "time.sleep(1)\n",
    "\n",
    "zoom_results = driver.find_elements(By.CSS_SELECTOR, '#issue_wrap > ul > li > div > a:nth-child(1) > span.txt')\n",
    "\n",
    "zoom_list = []\n",
    "for zoom_result in zoom_results:\n",
    "    print(zoom_result.text)\n",
    "    zoom_list.append(zoom_result.text)"
   ],
   "metadata": {
    "collapsed": false
   }
  },
  {
   "cell_type": "code",
   "execution_count": 29,
   "outputs": [
    {
     "name": "stdout",
     "output_type": "stream",
     "text": [
      "네이버 ['대전 화재 사망', '김민희', '대우조선해양', '라이베리아', '윤석열', '아베 국장에 역풍', '한국사능력검정시험', '천원짜리 변호사', '엑소 시우민 터닝포인트', 'MBC, 정언유착 의혹에', '대전 화재 사망', '김민희', '대우조선해양', '아베 국장에 역풍', '엑소 시우민 터닝포인트', 'MBC, 정언유착 의혹에', '접착제 뿌린 30대', '기자회견 벤투 감독', '', '']\n",
      "네이트 []\n",
      "줌 ['대전 현대아울렛', '천원짜리 변호사', '축구 국가대표 평가전', '윤석열', '아이유', '삼남매가 용감하게', '곽도원', '이재명', '금수저', '손흥민']\n"
     ]
    }
   ],
   "source": [
    "print(\"네이버\", naver_list)\n",
    "print(\"네이트\", nate_list)\n",
    "print(\"줌\", zoom_list)"
   ],
   "metadata": {
    "collapsed": false,
    "pycharm": {
     "name": "#%%ㅓ\n"
    }
   }
  }
 ],
 "metadata": {
  "kernelspec": {
   "display_name": "Python 3",
   "language": "python",
   "name": "python3"
  },
  "language_info": {
   "codemirror_mode": {
    "name": "ipython",
    "version": 2
   },
   "file_extension": ".py",
   "mimetype": "text/x-python",
   "name": "python",
   "nbconvert_exporter": "python",
   "pygments_lexer": "ipython2",
   "version": "2.7.6"
  }
 },
 "nbformat": 4,
 "nbformat_minor": 0
}
