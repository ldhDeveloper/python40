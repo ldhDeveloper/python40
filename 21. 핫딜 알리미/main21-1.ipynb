{
 "cells": [
  {
   "cell_type": "code",
   "execution_count": 2,
   "outputs": [
    {
     "name": "stderr",
     "output_type": "stream",
     "text": [
      "C:\\Users\\donghoon\\AppData\\Local\\Temp\\ipykernel_25220\\1475015531.py:4: DeprecationWarning: executable_path has been deprecated, please pass in a Service object\n",
      "  driver = webdriver.Chrome(ChromeDriverManager().install())\n"
     ]
    }
   ],
   "source": [
    "from webdriver_manager.chrome import ChromeDriverManager\n",
    "from selenium import webdriver\n",
    "\n",
    "driver = webdriver.Chrome(ChromeDriverManager().install())\n",
    "\n",
    "driver.get(url='https://www.ppomppu.co.kr/zboard/zboard.php?id=ppomppu')\n",
    "\n",
    "driver.implicitly_wait(time_to_wait=10)"
   ],
   "metadata": {
    "collapsed": false
   }
  },
  {
   "cell_type": "code",
   "execution_count": 3,
   "outputs": [
    {
     "name": "stdout",
     "output_type": "stream",
     "text": [
      "[오늘의집] 애슐리 스프 (1,900원/3,000)\n",
      "https://www.ppomppu.co.kr/zboard/view.php?id=ppomppu&page=1&divpage=74&no=434897\n",
      "[G마켓]오늘한정109만원대 LG 스타일러 S5MBAUE 5벌+1벌 블랙틴트미러 22년형신모델 (1,264,000원/무료)\n",
      "https://www.ppomppu.co.kr/zboard/view.php?id=ppomppu&page=1&divpage=74&no=434896\n",
      "[쿠팡/와우회원] 삼성전자 Z플립4 256G 자급제 (1,120,020원/와우무료배송)\n",
      "https://www.ppomppu.co.kr/zboard/view.php?id=ppomppu&page=1&divpage=74&no=434893\n",
      "[네이버]28일 라이브쇼핑 요기요 1만원/3만원/5만원권 7% 할인 + 3% 적립 라방 잡혔네요 (9300원/무료)\n",
      "https://www.ppomppu.co.kr/zboard/view.php?id=ppomppu&page=1&divpage=74&no=434892\n",
      "[11번가] ASUS TUF FX506HM-HN058 11세대 i7 RTX3060 (카드 최대할인 시 894,040원 / 무료배송)\n",
      "https://www.ppomppu.co.kr/zboard/view.php?id=ppomppu&page=1&divpage=74&no=434891\n",
      "[GS샵] 솔가 네이처바이트 종합비타민 90정(3개월)(41,710원/무료)\n",
      "https://www.ppomppu.co.kr/zboard/view.php?id=ppomppu&page=1&divpage=74&no=434890\n",
      "[옥션] 이디야 1만원권 (8,900/무료)\n",
      "https://www.ppomppu.co.kr/zboard/view.php?id=ppomppu&page=1&divpage=74&no=434887\n",
      "[마켓컬리] 셀리그램 리페어 샴푸 400g (9,900원/3,000원)\n",
      "https://www.ppomppu.co.kr/zboard/view.php?id=ppomppu&page=1&divpage=74&no=434886\n",
      "[W컨셉] 갤럭시 버즈2 프로 (219,000원/무료)\n",
      "https://www.ppomppu.co.kr/zboard/view.php?id=ppomppu&page=1&divpage=74&no=434885\n",
      "[하우스앱] LG디오스 매직스페이스 냉장고 S834S20Q 826L(1,029,000원)\n",
      "https://www.ppomppu.co.kr/zboard/view.php?id=ppomppu&page=1&divpage=74&no=434883\n",
      "[위메프]쫀득쫀득 1등급 한돈 생오겹살 600g(13900원/무배)\n",
      "https://www.ppomppu.co.kr/zboard/view.php?id=ppomppu&page=1&divpage=74&no=434882\n",
      "[11번가 라이브] ASUS TUF Gaming FX507ZC-HN075 (최종가 976,650원 / 무료배송) 및 그외 2종\n",
      "https://www.ppomppu.co.kr/zboard/view.php?id=ppomppu&page=1&divpage=74&no=434881\n",
      "[쿠팡] 코코도르 우드볼 차량용디퓨저 50ml 2개입 (8,930원 / 무료)\n",
      "https://www.ppomppu.co.kr/zboard/view.php?id=ppomppu&page=1&divpage=74&no=434880\n",
      "[G마켓] CGN 오메가 800 피쉬오일 30정 x 3개 (30,460/무료)\n",
      "https://www.ppomppu.co.kr/zboard/view.php?id=ppomppu&page=1&divpage=74&no=434879\n",
      "[11번가] 허쉬 초콜릿칩 모찌쿠키 240g 12개입 10박스 (30,470원/무료)\n",
      "https://www.ppomppu.co.kr/zboard/view.php?id=ppomppu&page=1&divpage=74&no=434877\n",
      "[위메프]샤오미 로봇청소기 러이드스토 R1 8세대 클린스테이션 (530,850/무배)\n",
      "https://www.ppomppu.co.kr/zboard/view.php?id=ppomppu&page=1&divpage=74&no=434876\n",
      "(쿠팡) 제니베이커리 스마트 베어 버터쿠키 [25,690원 무배]\n",
      "https://www.ppomppu.co.kr/zboard/view.php?id=ppomppu&page=1&divpage=74&no=434875\n",
      "티몬)슈퍼대디 물티슈 <평량82,77> 20팩(27930.25970/무배)\n",
      "https://www.ppomppu.co.kr/zboard/view.php?id=ppomppu&page=1&divpage=74&no=434874\n",
      "[네이버]제이씨현 ONE X PLAYER 1S 원엑스플레이어 메타덱(1,290,000원/무료배송)\n",
      "https://www.ppomppu.co.kr/zboard/view.php?id=ppomppu&page=1&divpage=74&no=434873\n",
      "[보고] [신한#마이샵] 밥스누 서울대 오리지널 약콩두유 1박스 24입 (청구할인가 16,900원/무배)\n",
      "https://www.ppomppu.co.kr/zboard/view.php?id=ppomppu&page=1&divpage=74&no=434872\n",
      "[11번가] 긴급공수!! 갤럭시 Z플립4 / Z폴드4 자급제폰 최대 22% 헐인 + 신세계 1만원 상품권\n",
      "https://www.ppomppu.co.kr/zboard/view.php?id=pmarket&&no=279852\n",
      "자동차 와이퍼 1번 교체비용으로 저는 5번 교체해요 ㅋㅋ\n",
      "https://www.ppomppu.co.kr/zboard/view.php?id=pmarket&&no=279841\n",
      "[지그재그][26일19시-20시30분 라방 특가]Z플립4 256,Z폴드4 21%/Z플립4 512 24% 할인[Z폴더블4 포토리뷰:신세계 상품권 2만원 증정][S22시리즈 22% / A33 22%...\n",
      "https://www.ppomppu.co.kr/zboard/view.php?id=pmarket&&no=279842\n",
      "[11번가 LIVE 디지털위크] 9월26일(월) 오후 8시 삼성 대형TV사면 공청기득템\n",
      "https://www.ppomppu.co.kr/zboard/view.php?id=pmarket&&no=279857\n",
      "[네이버] 무농약 인증! 해남 꿀고구마 한입 3kg 7,900원/무료배송\n",
      "https://www.ppomppu.co.kr/zboard/view.php?id=pmarket&&no=279856\n",
      "[나이키/아디다스/뉴발란스外]10%즉할+20%중복! FW시즌 오픈행사 (17,910원)\n",
      "https://www.ppomppu.co.kr/hotdeal/?no=23915850\n",
      "닭가슴살 어디가 젤 맛잇나요\n",
      "https://www.ppomppu.co.kr/zboard/view.php?id=social&no=34701\n",
      "새우 쇼핑몰 추천 좀 해주세요 ㅠㅠ\n",
      "https://www.ppomppu.co.kr/zboard/view.php?id=social&no=34700\n",
      "LG 톤프리 UT90Q 네이버 경유하시면 3% 추가 적립 있네요.\n",
      "https://www.ppomppu.co.kr/zboard/view.php?id=social&no=34699\n"
     ]
    }
   ],
   "source": [
    "from selenium.webdriver.common.by import By\n",
    "titles = driver.find_elements(By.CSS_SELECTOR, '#revolution_main_table > tbody > tr > td:nth-child(3) > table > tbody > tr > td:nth-child(2) > div > a > font')\n",
    "urls = driver.find_elements(By.CSS_SELECTOR, '#revolution_main_table > tbody > tr > td:nth-child(3) > table > tbody > tr > td:nth-child(2) > div > a')\n",
    "\n",
    "for i in range(len(titles)):\n",
    "    print(titles[i].text)\n",
    "    print(urls[i].get_attribute('href'))"
   ],
   "metadata": {
    "collapsed": false
   }
  },
  {
   "cell_type": "code",
   "execution_count": 4,
   "outputs": [
    {
     "name": "stdout",
     "output_type": "stream",
     "text": [
      "[네이버] 무농약 인증! 해남 꿀고구마 한입 3kg 7,900원/무료배송\n",
      "https://www.ppomppu.co.kr/zboard/view.php?id=pmarket&&no=279856\n"
     ]
    }
   ],
   "source": [
    "import telegram\n",
    "message = \"\"\n",
    "for i in range(len(titles)):\n",
    "    if \"꿀고구마\" in titles[i].text:\n",
    "        message = titles[i].text + \"\\n\" + urls[i].get_attribute(\"href\")\n",
    "        print(message)\n",
    "        token = \"5691766749:AAE5-Q35ApdXh2K-Sc_aDwfxn_JLkwWLI_k\"\n",
    "        id = \"1817536090\"\n",
    "        bot = telegram.Bot(token)\n",
    "        bot.sendMessage(chat_id=id, text=message)\n"
   ],
   "metadata": {
    "collapsed": false
   }
  },
  {
   "cell_type": "code",
   "execution_count": null,
   "outputs": [],
   "source": [],
   "metadata": {
    "collapsed": false
   }
  }
 ],
 "metadata": {
  "kernelspec": {
   "display_name": "Python 3",
   "language": "python",
   "name": "python3"
  },
  "language_info": {
   "codemirror_mode": {
    "name": "ipython",
    "version": 2
   },
   "file_extension": ".py",
   "mimetype": "text/x-python",
   "name": "python",
   "nbconvert_exporter": "python",
   "pygments_lexer": "ipython2",
   "version": "2.7.6"
  }
 },
 "nbformat": 4,
 "nbformat_minor": 0
}
